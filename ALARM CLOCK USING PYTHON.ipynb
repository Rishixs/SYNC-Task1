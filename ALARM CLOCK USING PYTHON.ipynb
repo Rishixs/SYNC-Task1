{
 "cells": [
  {
   "cell_type": "code",
   "execution_count": 2,
   "id": "ab5bb497",
   "metadata": {},
   "outputs": [
    {
     "name": "stdout",
     "output_type": "stream",
     "text": [
      "Enter the hour (0-23): 21\n",
      "Enter the minute (0-59): 23\n",
      "Wake up!\n"
     ]
    }
   ],
   "source": [
    "import datetime\n",
    "import time\n",
    "import winsound\n",
    "\n",
    "def set_alarm():\n",
    "    hour = int(input(\"Enter the hour (0-23): \"))\n",
    "    minute = int(input(\"Enter the minute (0-59): \"))\n",
    "\n",
    "    while True:\n",
    "        now = datetime.datetime.now()\n",
    "        if now.hour == hour and now.minute == minute:\n",
    "            print(\"Wake up!\")\n",
    "           \n",
    "            winsound.Beep(1000, 2000)  #frequency=1000 Hz,Duration=2000 ms\n",
    "            break\n",
    "        time.sleep(60)  # Checking for every minute\n",
    "\n",
    "# To Set the alarm\n",
    "set_alarm()\n"
   ]
  },
  {
   "cell_type": "code",
   "execution_count": null,
   "id": "9123102e",
   "metadata": {},
   "outputs": [],
   "source": []
  },
  {
   "cell_type": "code",
   "execution_count": null,
   "id": "630e3fc2",
   "metadata": {},
   "outputs": [],
   "source": []
  },
  {
   "cell_type": "code",
   "execution_count": null,
   "id": "d3b48a00",
   "metadata": {},
   "outputs": [],
   "source": []
  }
 ],
 "metadata": {
  "kernelspec": {
   "display_name": "Python 3 (ipykernel)",
   "language": "python",
   "name": "python3"
  },
  "language_info": {
   "codemirror_mode": {
    "name": "ipython",
    "version": 3
   },
   "file_extension": ".py",
   "mimetype": "text/x-python",
   "name": "python",
   "nbconvert_exporter": "python",
   "pygments_lexer": "ipython3",
   "version": "3.9.13"
  }
 },
 "nbformat": 4,
 "nbformat_minor": 5
}
